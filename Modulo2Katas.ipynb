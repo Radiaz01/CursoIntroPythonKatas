{
 "cells": [
  {
   "cell_type": "markdown",
   "metadata": {},
   "source": []
  },
  {
   "cell_type": "markdown",
   "metadata": {},
   "source": [
    "# Ejercicio - Crear un paquete"
   ]
  },
  {
   "cell_type": "markdown",
   "metadata": {},
   "source": [
    "#### 1. Crear Entorno Virtual\n",
    "\n",
    "![_Creación Entorno Virtual_](img/Modulo2-1.png)"
   ]
  },
  {
   "cell_type": "markdown",
   "metadata": {},
   "source": [
    "#### 2. Activar Entorno Virtual\n",
    "\n",
    "![_Activar Entorno Virtual_](img/Modulo2-2.png)"
   ]
  },
  {
   "cell_type": "markdown",
   "metadata": {},
   "source": [
    "### 3. Instalar Biblioteca dentro de Entorno Virtual\n",
    "![_Instalar Biblioteca_](img/Modulo2-3.png)"
   ]
  },
  {
   "cell_type": "markdown",
   "metadata": {},
   "source": [
    "### 4. Ver lista de Bibliotecas instaladas\n",
    "![_Lista de Bibliotecas Instaladas_](img/Modulo2-4.png)"
   ]
  },
  {
   "cell_type": "markdown",
   "metadata": {},
   "source": [
    "### 5. Desactivar Espacio Virtual\n",
    "![_Desactivar Espacio Virtual_](img/Modulo2-5.png)"
   ]
  }
 ],
 "metadata": {
  "language_info": {
   "name": "python"
  },
  "orig_nbformat": 4
 },
 "nbformat": 4,
 "nbformat_minor": 2
}
