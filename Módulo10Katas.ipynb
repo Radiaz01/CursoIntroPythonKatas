{
 "cells": [
  {
   "cell_type": "markdown",
   "metadata": {},
   "source": [
    "#### a) Intenta crear un archivo de Python y asígnale el nombre open.py\n",
    "\n",
    "![Archivo open.py ](img/Modulo10-1.png)\n",
    "\n",
    "#### b) Ejecución de archivo\n",
    "\n",
    "![Ejecucion open.py ](img/Modulo10-2.png)\n",
    "\n",
    "#### c) Agregar bloque try y except\n",
    "![Archivo config.py ](img/Modulo10-4.png)\n",
    "\n",
    "![Agregar try y except ](img/Modulo10-3.png)\n",
    "\n",
    "#### d) Creacion Archivo config.py\n",
    "\n",
    "![Archivo config.py ](img/Modulo10-5.png)\n",
    "\n",
    "#### e) Tratar de abrir un directorio\n",
    "\n",
    "![Abrir directorio ](img/Modulo10-6.png)\n",
    "\n",
    "#### f) Crear y abrir archivo config.txt\n",
    "\n",
    "![crear config.txt ](img/Modulo10-7.png)\n",
    "![Abrir archivo config.txt ](img/Modulo10-8.png)\n",
    "\n",
    "#### g) Detectar error de permisos\n",
    "![Detectar error ](img/Modulo10-9.png)\n",
    "![Abrir archivo config.txt ](img/Modulo10-10.png)\n",
    "\n",
    "#### h) Borrar config.txt y tratar de abrirlo\n",
    "![Abrir archivo config.txt ](img/Modulo10-11.png)\n",
    "\n",
    "#### i) Agrupar Excepciones\n",
    "![Agrupar excepciones ](img/Modulo10-12.png)\n",
    "\n",
    "#### j) Usar As en la excepción\n",
    "![Agrupar excepciones ](img/Modulo10-13.png)\n",
    "\n",
    "#### k) Usar atributos de la excepción\n",
    "![Usar atributo ](img/Modulo10-14.png)"
   ]
  },
  {
   "cell_type": "code",
   "execution_count": 2,
   "metadata": {},
   "outputs": [
    {
     "data": {
      "text/plain": [
       "'El total de agua restante después de 2 dias es: -10 litros'"
      ]
     },
     "execution_count": 2,
     "metadata": {},
     "output_type": "execute_result"
    }
   ],
   "source": [
    "def aguaRestante(astronautas, agua_restante, dias_restantes):\n",
    "    uso_diario = astronautas * 11\n",
    "    total_uso = uso_diario * dias_restantes\n",
    "    total_agua_restante = agua_restante - total_uso\n",
    "    return f\"El total de agua restante después de {dias_restantes} dias es: {total_agua_restante} litros\"\n",
    "\n",
    "aguaRestante(5, 100, 2)"
   ]
  },
  {
   "cell_type": "code",
   "execution_count": 16,
   "metadata": {},
   "outputs": [
    {
     "ename": "RuntimeError",
     "evalue": "No hay suficiente agua para los 5 astronautas después de 2 dias!",
     "output_type": "error",
     "traceback": [
      "\u001b[1;31m---------------------------------------------------------------------------\u001b[0m",
      "\u001b[1;31mRuntimeError\u001b[0m                              Traceback (most recent call last)",
      "\u001b[1;32md:\\Documentos\\LaunchX\\CursoIntroPython\\Módulo10Katas.ipynb Cell 3'\u001b[0m in \u001b[0;36m<module>\u001b[1;34m\u001b[0m\n\u001b[0;32m      <a href='vscode-notebook-cell:/d%3A/Documentos/LaunchX/CursoIntroPython/M%C3%B3dulo10Katas.ipynb#ch0000002?line=5'>6</a>\u001b[0m         \u001b[39mraise\u001b[39;00m \u001b[39mRuntimeError\u001b[39;00m(\u001b[39mf\u001b[39m\u001b[39m\"\u001b[39m\u001b[39mNo hay suficiente agua para los \u001b[39m\u001b[39m{\u001b[39;00mastronautas\u001b[39m}\u001b[39;00m\u001b[39m astronautas después de \u001b[39m\u001b[39m{\u001b[39;00mdias_restantes\u001b[39m}\u001b[39;00m\u001b[39m dias!\u001b[39m\u001b[39m\"\u001b[39m)\n\u001b[0;32m      <a href='vscode-notebook-cell:/d%3A/Documentos/LaunchX/CursoIntroPython/M%C3%B3dulo10Katas.ipynb#ch0000002?line=6'>7</a>\u001b[0m     \u001b[39mreturn\u001b[39;00m \u001b[39mf\u001b[39m\u001b[39m\"\u001b[39m\u001b[39mEl total de agua restante después de \u001b[39m\u001b[39m{\u001b[39;00mdias_restantes\u001b[39m}\u001b[39;00m\u001b[39m dias es: \u001b[39m\u001b[39m{\u001b[39;00mtotal_agua_restante\u001b[39m}\u001b[39;00m\u001b[39m litros\u001b[39m\u001b[39m\"\u001b[39m\n\u001b[1;32m----> <a href='vscode-notebook-cell:/d%3A/Documentos/LaunchX/CursoIntroPython/M%C3%B3dulo10Katas.ipynb#ch0000002?line=8'>9</a>\u001b[0m aguaRestante(\u001b[39m5\u001b[39;49m, \u001b[39m100\u001b[39;49m, \u001b[39m2\u001b[39;49m)\n",
      "\u001b[1;32md:\\Documentos\\LaunchX\\CursoIntroPython\\Módulo10Katas.ipynb Cell 3'\u001b[0m in \u001b[0;36maguaRestante\u001b[1;34m(astronautas, agua_restante, dias_restantes)\u001b[0m\n\u001b[0;32m      <a href='vscode-notebook-cell:/d%3A/Documentos/LaunchX/CursoIntroPython/M%C3%B3dulo10Katas.ipynb#ch0000002?line=3'>4</a>\u001b[0m total_agua_restante \u001b[39m=\u001b[39m agua_restante \u001b[39m-\u001b[39m total_uso\n\u001b[0;32m      <a href='vscode-notebook-cell:/d%3A/Documentos/LaunchX/CursoIntroPython/M%C3%B3dulo10Katas.ipynb#ch0000002?line=4'>5</a>\u001b[0m \u001b[39mif\u001b[39;00m total_agua_restante \u001b[39m<\u001b[39m \u001b[39m0\u001b[39m:\n\u001b[1;32m----> <a href='vscode-notebook-cell:/d%3A/Documentos/LaunchX/CursoIntroPython/M%C3%B3dulo10Katas.ipynb#ch0000002?line=5'>6</a>\u001b[0m     \u001b[39mraise\u001b[39;00m \u001b[39mRuntimeError\u001b[39;00m(\u001b[39mf\u001b[39m\u001b[39m\"\u001b[39m\u001b[39mNo hay suficiente agua para los \u001b[39m\u001b[39m{\u001b[39;00mastronautas\u001b[39m}\u001b[39;00m\u001b[39m astronautas después de \u001b[39m\u001b[39m{\u001b[39;00mdias_restantes\u001b[39m}\u001b[39;00m\u001b[39m dias!\u001b[39m\u001b[39m\"\u001b[39m)\n\u001b[0;32m      <a href='vscode-notebook-cell:/d%3A/Documentos/LaunchX/CursoIntroPython/M%C3%B3dulo10Katas.ipynb#ch0000002?line=6'>7</a>\u001b[0m \u001b[39mreturn\u001b[39;00m \u001b[39mf\u001b[39m\u001b[39m\"\u001b[39m\u001b[39mEl total de agua restante después de \u001b[39m\u001b[39m{\u001b[39;00mdias_restantes\u001b[39m}\u001b[39;00m\u001b[39m dias es: \u001b[39m\u001b[39m{\u001b[39;00mtotal_agua_restante\u001b[39m}\u001b[39;00m\u001b[39m litros\u001b[39m\u001b[39m\"\u001b[39m\n",
      "\u001b[1;31mRuntimeError\u001b[0m: No hay suficiente agua para los 5 astronautas después de 2 dias!"
     ]
    }
   ],
   "source": [
    "def aguaRestante(astronautas, agua_restante, dias_restantes):\n",
    "    uso_diario = astronautas * 11\n",
    "    total_uso = uso_diario * dias_restantes\n",
    "    total_agua_restante = agua_restante - total_uso\n",
    "    if total_agua_restante < 0:\n",
    "        raise RuntimeError(f\"No hay suficiente agua para los {astronautas} astronautas después de {dias_restantes} dias!\")\n",
    "    return f\"El total de agua restante después de {dias_restantes} dias es: {total_agua_restante} litros\"\n",
    "\n",
    "aguaRestante(5, 100, 2)"
   ]
  },
  {
   "cell_type": "code",
   "execution_count": 23,
   "metadata": {},
   "outputs": [
    {
     "name": "stdout",
     "output_type": "stream",
     "text": [
      "ALERTA EN EL SISTEMA DE NAVEGACIÓN: \n",
      "No hay suficiente agua para los 5 astronautas después de 2 dias!\n"
     ]
    }
   ],
   "source": [
    "def aguaRestante(astronautas, agua_restante, dias_restantes):\n",
    "    uso_diario = astronautas * 11\n",
    "    total_uso = uso_diario * dias_restantes\n",
    "    total_agua_restante = agua_restante - total_uso\n",
    "    if total_agua_restante < 0:\n",
    "        raise RuntimeError(f\"No hay suficiente agua para los {astronautas} astronautas después de {dias_restantes} dias!\")\n",
    "    \n",
    "    return f\"El total de agua restante después de {dias_restantes} dias es: {total_agua_restante} litros\"\n",
    "\n",
    "try:\n",
    "    aguaRestante(5, 100, 2)\n",
    "except RuntimeError as err:\n",
    "    print(\"ALERTA EN EL SISTEMA DE NAVEGACIÓN: \\n\" + str(err)) #alert_navigation_system(err)"
   ]
  },
  {
   "cell_type": "code",
   "execution_count": 12,
   "metadata": {},
   "outputs": [
    {
     "ename": "TypeError",
     "evalue": "Todos los argumentos deben de ser tipo int, Argumento inválido: '100'",
     "output_type": "error",
     "traceback": [
      "\u001b[1;31m---------------------------------------------------------------------------\u001b[0m",
      "\u001b[1;31mTypeError\u001b[0m                                 Traceback (most recent call last)",
      "\u001b[1;32md:\\Documentos\\LaunchX\\CursoIntroPython\\Módulo10Katas.ipynb Cell 5'\u001b[0m in \u001b[0;36maguaRestante\u001b[1;34m(astronautas, agua_restante, dias_restantes)\u001b[0m\n\u001b[0;32m      <a href='vscode-notebook-cell:/d%3A/Documentos/LaunchX/CursoIntroPython/M%C3%B3dulo10Katas.ipynb#ch0000004?line=2'>3</a>\u001b[0m \u001b[39mtry\u001b[39;00m:\n\u001b[1;32m----> <a href='vscode-notebook-cell:/d%3A/Documentos/LaunchX/CursoIntroPython/M%C3%B3dulo10Katas.ipynb#ch0000004?line=3'>4</a>\u001b[0m     argument \u001b[39m/\u001b[39;49m \u001b[39m10\u001b[39;49m\n\u001b[0;32m      <a href='vscode-notebook-cell:/d%3A/Documentos/LaunchX/CursoIntroPython/M%C3%B3dulo10Katas.ipynb#ch0000004?line=4'>5</a>\u001b[0m \u001b[39mexcept\u001b[39;00m \u001b[39mTypeError\u001b[39;00m:\n",
      "\u001b[1;31mTypeError\u001b[0m: unsupported operand type(s) for /: 'str' and 'int'",
      "\nDuring handling of the above exception, another exception occurred:\n",
      "\u001b[1;31mTypeError\u001b[0m                                 Traceback (most recent call last)",
      "\u001b[1;32md:\\Documentos\\LaunchX\\CursoIntroPython\\Módulo10Katas.ipynb Cell 5'\u001b[0m in \u001b[0;36m<module>\u001b[1;34m\u001b[0m\n\u001b[0;32m     <a href='vscode-notebook-cell:/d%3A/Documentos/LaunchX/CursoIntroPython/M%C3%B3dulo10Katas.ipynb#ch0000004?line=10'>11</a>\u001b[0m         \u001b[39mraise\u001b[39;00m \u001b[39mRuntimeError\u001b[39;00m(\u001b[39mf\u001b[39m\u001b[39m\"\u001b[39m\u001b[39mNo hay suficiente agua para los \u001b[39m\u001b[39m{\u001b[39;00mastronautas\u001b[39m}\u001b[39;00m\u001b[39m astronautas después de \u001b[39m\u001b[39m{\u001b[39;00mdias_restantes\u001b[39m}\u001b[39;00m\u001b[39m dias!\u001b[39m\u001b[39m\"\u001b[39m)\n\u001b[0;32m     <a href='vscode-notebook-cell:/d%3A/Documentos/LaunchX/CursoIntroPython/M%C3%B3dulo10Katas.ipynb#ch0000004?line=12'>13</a>\u001b[0m     \u001b[39mreturn\u001b[39;00m \u001b[39mf\u001b[39m\u001b[39m\"\u001b[39m\u001b[39mEl total de agua restante después de \u001b[39m\u001b[39m{\u001b[39;00mdias_restantes\u001b[39m}\u001b[39;00m\u001b[39m dias es: \u001b[39m\u001b[39m{\u001b[39;00mtotal_agua_restante\u001b[39m}\u001b[39;00m\u001b[39m litros\u001b[39m\u001b[39m\"\u001b[39m\n\u001b[1;32m---> <a href='vscode-notebook-cell:/d%3A/Documentos/LaunchX/CursoIntroPython/M%C3%B3dulo10Katas.ipynb#ch0000004?line=14'>15</a>\u001b[0m aguaRestante(\u001b[39m5\u001b[39;49m, \u001b[39m'\u001b[39;49m\u001b[39m100\u001b[39;49m\u001b[39m'\u001b[39;49m, \u001b[39m2\u001b[39;49m)\n",
      "\u001b[1;32md:\\Documentos\\LaunchX\\CursoIntroPython\\Módulo10Katas.ipynb Cell 5'\u001b[0m in \u001b[0;36maguaRestante\u001b[1;34m(astronautas, agua_restante, dias_restantes)\u001b[0m\n\u001b[0;32m      <a href='vscode-notebook-cell:/d%3A/Documentos/LaunchX/CursoIntroPython/M%C3%B3dulo10Katas.ipynb#ch0000004?line=3'>4</a>\u001b[0m         argument \u001b[39m/\u001b[39m \u001b[39m10\u001b[39m\n\u001b[0;32m      <a href='vscode-notebook-cell:/d%3A/Documentos/LaunchX/CursoIntroPython/M%C3%B3dulo10Katas.ipynb#ch0000004?line=4'>5</a>\u001b[0m     \u001b[39mexcept\u001b[39;00m \u001b[39mTypeError\u001b[39;00m:\n\u001b[1;32m----> <a href='vscode-notebook-cell:/d%3A/Documentos/LaunchX/CursoIntroPython/M%C3%B3dulo10Katas.ipynb#ch0000004?line=5'>6</a>\u001b[0m         \u001b[39mraise\u001b[39;00m \u001b[39mTypeError\u001b[39;00m(\u001b[39mf\u001b[39m\u001b[39m\"\u001b[39m\u001b[39mTodos los argumentos deben de ser tipo int, Argumento inválido: \u001b[39m\u001b[39m'\u001b[39m\u001b[39m{\u001b[39;00margument\u001b[39m}\u001b[39;00m\u001b[39m'\u001b[39m\u001b[39m\"\u001b[39m)\n\u001b[0;32m      <a href='vscode-notebook-cell:/d%3A/Documentos/LaunchX/CursoIntroPython/M%C3%B3dulo10Katas.ipynb#ch0000004?line=6'>7</a>\u001b[0m uso_diario \u001b[39m=\u001b[39m astronautas \u001b[39m*\u001b[39m \u001b[39m11\u001b[39m\n\u001b[0;32m      <a href='vscode-notebook-cell:/d%3A/Documentos/LaunchX/CursoIntroPython/M%C3%B3dulo10Katas.ipynb#ch0000004?line=7'>8</a>\u001b[0m total_uso \u001b[39m=\u001b[39m uso_diario \u001b[39m*\u001b[39m dias_restantes\n",
      "\u001b[1;31mTypeError\u001b[0m: Todos los argumentos deben de ser tipo int, Argumento inválido: '100'"
     ]
    }
   ],
   "source": [
    "def aguaRestante(astronautas, agua_restante, dias_restantes):\n",
    "    for argument in [astronautas, agua_restante, dias_restantes]:\n",
    "        try:\n",
    "            argument / 10\n",
    "        except TypeError:\n",
    "            raise TypeError(f\"Todos los argumentos deben de ser tipo int, Argumento inválido: '{argument}'\")\n",
    "    uso_diario = astronautas * 11\n",
    "    total_uso = uso_diario * dias_restantes\n",
    "    total_agua_restante = agua_restante - total_uso\n",
    "    if total_agua_restante < 0:\n",
    "        raise RuntimeError(f\"No hay suficiente agua para los {astronautas} astronautas después de {dias_restantes} dias!\")\n",
    "    \n",
    "    return f\"El total de agua restante después de {dias_restantes} dias es: {total_agua_restante} litros\"\n",
    "\n",
    "aguaRestante(5, '100', 2)\n"
   ]
  }
 ],
 "metadata": {
  "interpreter": {
   "hash": "c6a6494cef2217134517b8a8933381ff6e4abe20c5ccd21b5ec30ba2b5d1fdcf"
  },
  "kernelspec": {
   "display_name": "Python 3.10.2 64-bit",
   "language": "python",
   "name": "python3"
  },
  "language_info": {
   "codemirror_mode": {
    "name": "ipython",
    "version": 3
   },
   "file_extension": ".py",
   "mimetype": "text/x-python",
   "name": "python",
   "nbconvert_exporter": "python",
   "pygments_lexer": "ipython3",
   "version": "3.10.2"
  },
  "orig_nbformat": 4
 },
 "nbformat": 4,
 "nbformat_minor": 2
}
