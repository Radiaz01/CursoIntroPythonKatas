{
 "cells": [
  {
   "cell_type": "markdown",
   "metadata": {},
   "source": [
    "## Ejercicio 1 - Uso de funciones en Python\n",
    "#### a) Trabajar con argumentos en funciones"
   ]
  },
  {
   "cell_type": "code",
   "execution_count": 13,
   "metadata": {},
   "outputs": [
    {
     "name": "stdout",
     "output_type": "stream",
     "text": [
      "REPORTE\n",
      "Tanque 1: 10\n",
      "Tanque 2. 8\n",
      "Tanque 3: 6\n",
      "Promedio: 8.0\n",
      "\n",
      "Comprobacion de funcionamiento de la funcion\n",
      "9.333333333333334\n",
      "\n",
      "REPORTE\n",
      "Tanque 1: 10\n",
      "Tanque 2. 10\n",
      "Tanque 3: 10\n",
      "Promedio: 10.0\n"
     ]
    }
   ],
   "source": [
    "# Función para leer 3 tanques de combustible y muestre el promedio\n",
    "def combustibles(t1, t2, t3):\n",
    "    return \"REPORTE\\nTanque 1: {0}\\nTanque 2. {1}\\nTanque 3: {2}\\nPromedio: {3}\".format(t1,t2,t3,(t1+t2+t3)/3)\n",
    "\n",
    "# Llamamos a la función que genera el reporte print(funcion(tanque1, tanque2, tanque3))\n",
    "print(combustibles(10, 8, 6))\n",
    "\n",
    "# Función promedio \n",
    "def promedio(*valores):\n",
    "    return sum(valores)/len(valores)\n",
    "\n",
    "print(\"\\nComprobacion de funcionamiento de la funcion\\n\" + str(promedio(10, 9, 9)) + \"\\n\")\n",
    "\n",
    "# Actualiza la función\n",
    "def combustiblesActualizada(t1,t2,t3):\n",
    "    return \"REPORTE\\nTanque 1: {0}\\nTanque 2. {1}\\nTanque 3: {2}\\nPromedio: {3}\".format(t1,t2,t3,promedio(t1,t2,t3))\n",
    "\n",
    "print(combustibles(10, 10, 10))\n"
   ]
  },
  {
   "cell_type": "markdown",
   "metadata": {},
   "source": [
    "## Ejercicio 2 - Trabajo con argumentos de palabra clave\n",
    "#### a) Trabajar con argumentos de palabras clave en funciones"
   ]
  },
  {
   "cell_type": "code",
   "execution_count": 25,
   "metadata": {},
   "outputs": [
    {
     "name": "stdout",
     "output_type": "stream",
     "text": [
      "REPORTE MISIÓN\n",
      "    - Hora de prelanzamiento: 8\n",
      "    - Tiempo de vuelo: 4\n",
      "    - Destino: Marte\n",
      "    - Tanques: 29.5\n"
     ]
    }
   ],
   "source": [
    "# Función con un informe preciso de la misión. \n",
    "# Considera hora de prelanzamiento, tiempo de vuelo, destino, tanque externo y tanque interno\n",
    "def informe(hora, tiempo, destino, tanqueexter, tanqueinter):\n",
    "    return \"\"\"REPORTE MISIÓN\n",
    "    - Hora de prelanzamiento: {0}\n",
    "    - Tiempo de vuelo: {1}\n",
    "    - Destino: {2}\n",
    "    - Tanques: {3}\"\"\".format(hora,tiempo,destino,tanqueexter + tanqueinter)\n",
    "\n",
    "print(informe(8, 4, 'Marte', 15.3, 14.2))\n",
    "\n",
    "\n"
   ]
  },
  {
   "cell_type": "code",
   "execution_count": 39,
   "metadata": {},
   "outputs": [
    {
     "name": "stdout",
     "output_type": "stream",
     "text": [
      "REPORTE MISIÓN\n",
      "    - Hora de prelanzamiento: 24\n",
      "    - Tiempo de vuelo: 8\n",
      "    - Destino: Marte\n",
      "    - Total en tanque: 3000\n",
      "        -Tanque1: 1000\n",
      "        -Tanque2: 2000\n"
     ]
    }
   ],
   "source": [
    "# Escribe tu nueva función de reporte considerando lo anterior\n",
    "# Escribe tu nueva función\n",
    "def informe2(tiempo, destino,*minutos, **tanques):\n",
    "    reporte = \"\"\"REPORTE MISIÓN\n",
    "    - Hora de prelanzamiento: {0}\n",
    "    - Tiempo de vuelo: {1}\n",
    "    - Destino: {2}\n",
    "    - Total en tanque: {3}\"\"\".format(sum(minutos),tiempo,destino, sum(tanques.values()))\n",
    "    \n",
    "    tan =\"\"\n",
    "    for tanque, contenido in tanques.items():\n",
    "        tan += \"\"\"\n",
    "        -{0}: {1}\"\"\".format(tanque,contenido)\n",
    "\n",
    "    return (reporte + tan)\n",
    "\n",
    "\n",
    "print(informe2(8,\"Marte\",7,10,7,Tanque1 = 1000, Tanque2 = 2000))"
   ]
  }
 ],
 "metadata": {
  "interpreter": {
   "hash": "c6a6494cef2217134517b8a8933381ff6e4abe20c5ccd21b5ec30ba2b5d1fdcf"
  },
  "kernelspec": {
   "display_name": "Python 3.10.2 64-bit",
   "language": "python",
   "name": "python3"
  },
  "language_info": {
   "codemirror_mode": {
    "name": "ipython",
    "version": 3
   },
   "file_extension": ".py",
   "mimetype": "text/x-python",
   "name": "python",
   "nbconvert_exporter": "python",
   "pygments_lexer": "ipython3",
   "version": "3.10.2"
  },
  "orig_nbformat": 4
 },
 "nbformat": 4,
 "nbformat_minor": 2
}
